{
  "nbformat": 4,
  "nbformat_minor": 0,
  "metadata": {
    "colab": {
      "provenance": [],
      "authorship_tag": "ABX9TyONpYnZS/DJa0ivOx1R6SBt",
      "include_colab_link": true
    },
    "kernelspec": {
      "name": "python3",
      "display_name": "Python 3"
    },
    "language_info": {
      "name": "python"
    }
  },
  "cells": [
    {
      "cell_type": "markdown",
      "metadata": {
        "id": "view-in-github",
        "colab_type": "text"
      },
      "source": [
        "<a href=\"https://colab.research.google.com/github/y93r/Pesquisa-Operacional/blob/main/PO.ipynb\" target=\"_parent\"><img src=\"https://colab.research.google.com/assets/colab-badge.svg\" alt=\"Open In Colab\"/></a>"
      ]
    },
    {
      "cell_type": "code",
      "source": [
        "#Verificar a versão do Google Colab\n",
        "import google.colab\n",
        "print(\"Google Colab version:\", google.colab.__version__)\n",
        "\n",
        "#Verificar a versão do Python\n",
        "import sys\n",
        "print(\"Python version:\", sys.version)"
      ],
      "metadata": {
        "colab": {
          "base_uri": "https://localhost:8080/"
        },
        "id": "BM6pq5_WzSdG",
        "outputId": "28265a5a-35d5-4845-e31d-47ee4900dee6"
      },
      "execution_count": null,
      "outputs": [
        {
          "output_type": "stream",
          "name": "stdout",
          "text": [
            "Google Colab version: 0.0.1a2\n",
            "Python version: 3.10.12 (main, Nov 20 2023, 15:14:05) [GCC 11.4.0]\n"
          ]
        }
      ]
    },
    {
      "cell_type": "code",
      "execution_count": 2,
      "metadata": {
        "colab": {
          "base_uri": "https://localhost:8080/"
        },
        "id": "952Pd4MHzJ-v",
        "outputId": "cdd8fc46-c08b-46ef-b6e0-f22213d5b108"
      },
      "outputs": [
        {
          "output_type": "stream",
          "name": "stdout",
          "text": [
            "Collecting pulp\n",
            "  Downloading PuLP-2.8.0-py3-none-any.whl (17.7 MB)\n",
            "\u001b[2K     \u001b[90m━━━━━━━━━━━━━━━━━━━━━━━━━━━━━━━━━━━━━━━━\u001b[0m \u001b[32m17.7/17.7 MB\u001b[0m \u001b[31m40.7 MB/s\u001b[0m eta \u001b[36m0:00:00\u001b[0m\n",
            "\u001b[?25hInstalling collected packages: pulp\n",
            "Successfully installed pulp-2.8.0\n"
          ]
        }
      ],
      "source": [
        "import sys\n",
        "!{sys.executable} -m pip install pulp"
      ]
    },
    {
      "cell_type": "code",
      "source": [
        "import pulp\n",
        "\n",
        "#Definir o problema\n",
        "problem = pulp.LpProblem(\"Maximizar_Produção\", pulp.LpMaximize)\n",
        "\n",
        "#Variáveis de decisão para os tempos de operação\n",
        "x1 = pulp.LpVariable('x1', lowBound=0, upBound=8, cat='Continuos')\n",
        "x2 = pulp.LpVariable('x2', lowBound=0, upBound=8, cat='Continuos')\n",
        "x3 = pulp.LpVariable('x3', lowBound=0, upBound=8, cat='Continuos')\n",
        "\n",
        "#Capacidade de produção (peças por hora)\n",
        "capacidade = 350\n",
        "\n",
        "#Função objetivo: maximizar a soma das horas de operação (eficiência no uso das máquinas)\n",
        "problem += x1 + x2 + x3\n",
        "\n",
        "#Restrições para garantir que a produção total seja 8400 peças\n",
        "problem += capacidade * (x1 + x2 + x3) >= 8400\n",
        "\n",
        "#Restrições para as horas de operação\n",
        "problem += x1 <= 8\n",
        "problem += x2 <= 8\n",
        "problem += x3 <= 8\n",
        "\n",
        "#Resolver o problema\n",
        "problem.solve()\n",
        "\n",
        "#Resultados\n",
        "if pulp.LpStatus[problem.status] == \"Optimal\":\n",
        "  print(\"Status:\", pulp.LpStatus[problem.status])\n",
        "  print(\"Horas de operação da Máquina 1:\", x1.varValue)\n",
        "  print(\"Horas de operação da Máquina 2:\", x2.varValue)\n",
        "  print(\"Horas de operação da Máquina 3:\", x3.varValue)\n",
        "  print(\"Produção total da Máquina 1:\", capacidade * x1.varValue, \"peças\")\n",
        "  print(\"Produção total da Máquina 2:\", capacidade * x2.varValue, \"peças\")\n",
        "  print(\"Produção total da Máquina 3:\", capacidade * x3.varValue, \"peças\")\n",
        "  print(\"Produção total:\", capacidade * (x1.varValue + x2.varValue + x3.varValue), \"peças\")\n",
        "else:\n",
        "  print(\"Status:\", pulp.LpStatus[problem.status])\n",
        "  print(\"Necessário ajuste nos parâmetros\")"
      ],
      "metadata": {
        "id": "v02PRVcIFpxG",
        "colab": {
          "base_uri": "https://localhost:8080/"
        },
        "outputId": "a854eb5c-7de1-4a9a-ba9c-ecb3cd8c4307"
      },
      "execution_count": 21,
      "outputs": [
        {
          "output_type": "stream",
          "name": "stdout",
          "text": [
            "Status: Optimal\n",
            "Horas de operação da Máquina 1: 8.0\n",
            "Horas de operação da Máquina 2: 8.0\n",
            "Horas de operação da Máquina 3: 8.0\n",
            "Produção total da Máquina 1: 2800.0 peças\n",
            "Produção total da Máquina 2: 2800.0 peças\n",
            "Produção total da Máquina 3: 2800.0 peças\n",
            "Produção total: 8400.0 peças\n"
          ]
        }
      ]
    },
    {
      "cell_type": "code",
      "source": [],
      "metadata": {
        "id": "AR8FgLIktCE5"
      },
      "execution_count": null,
      "outputs": []
    }
  ]
}